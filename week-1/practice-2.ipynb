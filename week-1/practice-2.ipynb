{
 "cells": [
  {
   "cell_type": "code",
   "execution_count": 1,
   "id": "10e4a15f-7b27-43d1-b5e0-f295d99ee915",
   "metadata": {},
   "outputs": [
    {
     "name": "stdout",
     "output_type": "stream",
     "text": [
      "Hi my name is Nnamdi. I am String\n",
      "<class 'str'>\n",
      "Hi my name is Orihime. I am also a string\n",
      "<class 'str'>\n"
     ]
    }
   ],
   "source": [
    "# python program to print strings and type\n",
    "str1 = \"Hi my name is Nnamdi. I am String\"\n",
    "str2 = 'Hi my name is Orihime. I am also a string'\n",
    "\n",
    "# displaying string str1 and its type\n",
    "print(str1)\n",
    "print(type(str1))\n",
    "\n",
    "print(str2)\n",
    "print(type(str2))"
   ]
  }
 ],
 "metadata": {
  "kernelspec": {
   "display_name": "Python 3 (ipykernel)",
   "language": "python",
   "name": "python3"
  },
  "language_info": {
   "codemirror_mode": {
    "name": "ipython",
    "version": 3
   },
   "file_extension": ".py",
   "mimetype": "text/x-python",
   "name": "python",
   "nbconvert_exporter": "python",
   "pygments_lexer": "ipython3",
   "version": "3.11.7"
  }
 },
 "nbformat": 4,
 "nbformat_minor": 5
}
