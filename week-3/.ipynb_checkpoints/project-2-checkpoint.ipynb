{
 "cells": [
  {
   "cell_type": "code",
   "execution_count": 3,
   "id": "332084c3-e865-4952-a0e3-cea64cc70b49",
   "metadata": {},
   "outputs": [
    {
     "name": "stdout",
     "output_type": "stream",
     "text": [
      "Welcome to my root calculator\n"
     ]
    },
    {
     "name": "stdin",
     "output_type": "stream",
     "text": [
      "Which equation would like to find its root: Quadratic or Cubic 2\n",
      "Enter A 2\n",
      "Enter B 6\n",
      "Enter C 14\n",
      "Enter D 20\n"
     ]
    },
    {
     "name": "stdout",
     "output_type": "stream",
     "text": [
      "The roots of the cubic equation are [(-0.5000000000000003+2.179449471770335j), (-0.5000000000000003-2.179449471770335j), (-2.0000000000000004+0j)]\n"
     ]
    }
   ],
   "source": [
    "#Welcome message\n",
    "print(\"Welcome to my root calculator\")\n",
    "R = int(input(\"Which equation would like to find its root: Quadratic or Cubic\"))\n",
    "\n",
    "import numpy as np\n",
    "\n",
    "def solve_cubic(A, B, C, D):\n",
    "    roots = np.roots([A, B, C, D])\n",
    "    return roots.tolist()\n",
    "\n",
    "if R == 1 :\n",
    "    A = int(input(\"Enter A\"))\n",
    "    B = int(input(\"Enter B\"))\n",
    "    C = int(input(\"Enter C\"))\n",
    "    X1=(-(B) +(((B ** 2)-(4*A*C)) ** 0.5))/(2*A)\n",
    "    X2=(-(B)-(((B ** 2)-(4*A*C)) ** 0.5))/(2*A)\n",
    "    print(\"Your 1st root is:\", X1)\n",
    "    print(\"Your 2nd root is:\", X2)\n",
    "elif R == 2 :\n",
    "    A = int(input(\"Enter A\"))\n",
    "    B = int(input(\"Enter B\"))\n",
    "    C = int(input(\"Enter C\"))\n",
    "    D = int(input(\"Enter D\"))\n",
    "    roots = solve_cubic(A, B, C, D)\n",
    "    print(\"The roots of the cubic equation are\", roots)"
   ]
  },
  {
   "cell_type": "code",
   "execution_count": null,
   "id": "726c178f-8a6b-4fdd-a4db-66c076128186",
   "metadata": {},
   "outputs": [],
   "source": []
  },
  {
   "cell_type": "code",
   "execution_count": null,
   "id": "35b2fb00-9f44-4860-bc79-1644453558e8",
   "metadata": {},
   "outputs": [],
   "source": []
  }
 ],
 "metadata": {
  "kernelspec": {
   "display_name": "Python 3 (ipykernel)",
   "language": "python",
   "name": "python3"
  },
  "language_info": {
   "codemirror_mode": {
    "name": "ipython",
    "version": 3
   },
   "file_extension": ".py",
   "mimetype": "text/x-python",
   "name": "python",
   "nbconvert_exporter": "python",
   "pygments_lexer": "ipython3",
   "version": "3.11.7"
  }
 },
 "nbformat": 4,
 "nbformat_minor": 5
}
