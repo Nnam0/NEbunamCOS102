{
 "cells": [
  {
   "cell_type": "code",
   "execution_count": null,
   "id": "b156a4f5-c9f1-4480-99fd-417a701e1bab",
   "metadata": {},
   "outputs": [],
   "source": [
    "import tkinter as tk\n",
    "from tkinter import messagebox\n",
    "\n",
    "# Function to calculate delivery cost\n",
    "def calculate_cost():\n",
    "    location = location_var.get()\n",
    "    weight = weight_var.get()\n",
    "\n",
    "    if location == \"Ibeju-Lekki\":\n",
    "        if weight >= 10:\n",
    "            cost = 5000\n",
    "        else:\n",
    "            cost = 3500\n",
    "    elif location == \"Epe\":\n",
    "        if weight >= 10:\n",
    "            cost = 10000\n",
    "        else:\n",
    "            cost = 5000\n",
    "    else:\n",
    "        messagebox.showerror(\"Error\", \"Invalid location\")\n",
    "        return\n",
    "\n",
    "    messagebox.showinfo(\"Delivery Cost\", f\"The delivery cost is N{cost}\")\n",
    "\n",
    "# Create main window\n",
    "root = tk.Tk()\n",
    "root.title(\"Simi Services Delivery Cost Calculator\")\n",
    "\n",
    "# Create labels\n",
    "location_label = tk.Label(root, text=\"Location:\")\n",
    "location_label.pack()\n",
    "\n",
    "weight_label = tk.Label(root, text=\"Weight (kg):\")\n",
    "weight_label.pack()\n",
    "\n",
    "# Create entry widgets\n",
    "location_var = tk.StringVar(root)\n",
    "location_var.set(\"Ibeju-Lekki\")  # Default location\n",
    "location_entry = tk.Entry(root, textvariable=location_var)\n",
    "location_entry.pack()\n",
    "\n",
    "weight_var = tk.DoubleVar(root)\n",
    "weight_entry = tk.Entry(root, textvariable=weight_var)\n",
    "weight_entry.pack()\n",
    "\n",
    "# Create calculate button\n",
    "calculate_button = tk.Button(root, text=\"Calculate\", command=calculate_cost)\n",
    "calculate_button.pack()\n",
    "\n",
    "# Run the main loop\n",
    "root.mainloop()\n"
   ]
  },
  {
   "cell_type": "code",
   "execution_count": null,
   "id": "1c79a3e3-8069-46ac-890a-f75caf262d9d",
   "metadata": {},
   "outputs": [],
   "source": []
  }
 ],
 "metadata": {
  "kernelspec": {
   "display_name": "Python 3 (ipykernel)",
   "language": "python",
   "name": "python3"
  },
  "language_info": {
   "codemirror_mode": {
    "name": "ipython",
    "version": 3
   },
   "file_extension": ".py",
   "mimetype": "text/x-python",
   "name": "python",
   "nbconvert_exporter": "python",
   "pygments_lexer": "ipython3",
   "version": "3.11.7"
  }
 },
 "nbformat": 4,
 "nbformat_minor": 5
}
