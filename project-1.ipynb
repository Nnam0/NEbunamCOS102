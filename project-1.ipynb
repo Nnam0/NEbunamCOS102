{
 "cells": [
  {
   "cell_type": "code",
   "execution_count": 1,
   "id": "8a2c5e4f-fee8-4f2d-a8fb-33120409f5d4",
   "metadata": {},
   "outputs": [
    {
     "name": "stdin",
     "output_type": "stream",
     "text": [
      "Enter principal:  5000.0\n",
      "Enter rate 5.0\n",
      "Enter time 2.5\n"
     ]
    },
    {
     "name": "stdout",
     "output_type": "stream",
     "text": [
      "simple interest is:  13125.0\n"
     ]
    }
   ],
   "source": [
    "# simple interest\n",
    "p = float(input(\"Enter principal: \"))\n",
    "r = float(input(\"Enter rate\"))\n",
    "t = float(input(\"Enter time\"))\n",
    "\n",
    "simple_interest = p * (1 + r/100.0) * t\n",
    "print(\"simple interest is: \", (simple_interest)) \n",
    "\n"
   ]
  },
  {
   "cell_type": "code",
   "execution_count": null,
   "id": "24dc811c-f901-4592-a78e-a5770258a7b8",
   "metadata": {},
   "outputs": [
    {
     "name": "stdin",
     "output_type": "stream",
     "text": [
      "Enter principal:  6000.0\n"
     ]
    }
   ],
   "source": [
    "# compound interest\n",
    "p = float(input(\"Enter principal: \"))\n",
    "r = float(input(\"Enter rate\"))\n",
    "t = float(input(\"Enter time\"))\n",
    "n = float(input(\"Enter no of times interest compounded\")) \n",
    "\n",
    "compound_interest = p * (1 + r/n) ** n * t\n",
    "print(\"compound interest is: \", (compound_interest))\n"
   ]
  },
  {
   "cell_type": "code",
   "execution_count": 3,
   "id": "1ff8f600-38e2-4f91-8dd3-0ad1fb3093a2",
   "metadata": {},
   "outputs": [
    {
     "name": "stdin",
     "output_type": "stream",
     "text": [
      "Enter payment per period:  8000.0\n",
      "Enter rate 5.0\n",
      "Enter time 4.5\n",
      "Enter no of times interest compounded 3\n"
     ]
    },
    {
     "name": "stdout",
     "output_type": "stream",
     "text": [
      "annuity is:  44977.77777777779\n"
     ]
    }
   ],
   "source": [
    "# Annuity\n",
    "pmt = float(input(\"Enter payment per period: \"))\n",
    "r = float(input(\"Enter rate\"))\n",
    "t = float(input(\"Enter time\"))\n",
    "n = float(input(\"Enter no of times interest compounded\")) \n",
    "\n",
    "annu_ity = pmt * ((1 + r/n) ** n * t - 1)/ r/n\n",
    "print(\"annuity is: \", (annu_ity))\n"
   ]
  },
  {
   "cell_type": "code",
   "execution_count": null,
   "id": "e602515c-423e-4b68-a738-d54215cf9731",
   "metadata": {},
   "outputs": [],
   "source": []
  }
 ],
 "metadata": {
  "kernelspec": {
   "display_name": "Python 3 (ipykernel)",
   "language": "python",
   "name": "python3"
  },
  "language_info": {
   "codemirror_mode": {
    "name": "ipython",
    "version": 3
   },
   "file_extension": ".py",
   "mimetype": "text/x-python",
   "name": "python",
   "nbconvert_exporter": "python",
   "pygments_lexer": "ipython3",
   "version": "3.11.7"
  }
 },
 "nbformat": 4,
 "nbformat_minor": 5
}
